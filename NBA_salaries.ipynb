{
  "nbformat": 4,
  "nbformat_minor": 0,
  "metadata": {
    "colab": {
      "name": "NBA_salaries.ipynb",
      "provenance": [],
      "collapsed_sections": []
    },
    "kernelspec": {
      "name": "python3",
      "display_name": "Python 3"
    }
  },
  "cells": [
    {
      "cell_type": "code",
      "metadata": {
        "id": "Xjwt0IFT3x5E"
      },
      "source": [
        "#!pip install scrapy\n",
        "#!pip install squarify\n",
        "#!pip install --upgrade plotly"
      ],
      "execution_count": 68,
      "outputs": []
    },
    {
      "cell_type": "code",
      "metadata": {
        "id": "1u1yNUKUjeIV"
      },
      "source": [
        "import scrapy\n",
        "from scrapy import Selector\n",
        "from scrapy.http import HtmlResponse\n",
        "import requests\n",
        "import pandas as pd\n",
        "import numpy as np\n",
        "import string \n",
        "from string import digits\n",
        "import matplotlib.pyplot as plt\n",
        "import seaborn as sns \n",
        "import matplotlib\n",
        "import plotly.express as px\n",
        "import plotly.graph_objects as go"
      ],
      "execution_count": 2,
      "outputs": []
    },
    {
      "cell_type": "code",
      "metadata": {
        "id": "80sNAhXDSROm"
      },
      "source": [
        "# Setting up my favourite style for the plots\n",
        "sns.set_context('talk')\n",
        "plt.style.use('fivethirtyeight')"
      ],
      "execution_count": 3,
      "outputs": []
    },
    {
      "cell_type": "markdown",
      "metadata": {
        "id": "jQCYhvi4azr4"
      },
      "source": [
        "# Web Scraping"
      ]
    },
    {
      "cell_type": "markdown",
      "metadata": {
        "id": "dHmKrEljNpkw"
      },
      "source": [
        "I scraped the salaries from https://www.basketball-reference.com/contracts/players.html .\n",
        "Attention! They are only salaries (no sponsors) before the 20% decrease COVID19 agreement. "
      ]
    },
    {
      "cell_type": "code",
      "metadata": {
        "id": "8ElhVgWlWecm"
      },
      "source": [
        "url='https://www.basketball-reference.com/contracts/players.html'\n",
        "html = requests.get(url).content\n",
        "sel = Selector(text = html)\n",
        "player = sel.xpath('//tbody//td[@data-stat=\"player\"]//text()').extract()\n",
        "salary = sel.xpath('//tbody//td[@data-stat=\"y1\"]//text()').extract()"
      ],
      "execution_count": 4,
      "outputs": []
    },
    {
      "cell_type": "code",
      "metadata": {
        "colab": {
          "base_uri": "https://localhost:8080/"
        },
        "id": "I3Npq96FNY09",
        "outputId": "2cfc1c01-f41f-46d1-9a09-914a6982327e"
      },
      "source": [
        "# Length of players looks OK, salary list is short of 1 player because there is 1 salaries missing from Basketball-reference\n",
        "len(player), len(salary)"
      ],
      "execution_count": 6,
      "outputs": [
        {
          "output_type": "execute_result",
          "data": {
            "text/plain": [
              "(513, 512)"
            ]
          },
          "metadata": {
            "tags": []
          },
          "execution_count": 6
        }
      ]
    },
    {
      "cell_type": "code",
      "metadata": {
        "colab": {
          "base_uri": "https://localhost:8080/"
        },
        "id": "YzuqnSNEx5v1",
        "outputId": "74d00232-29da-4163-f985-850dcc583a7e"
      },
      "source": [
        "# Let's checkt the top10 players and salaries\n",
        "player[:10], salary[:10]"
      ],
      "execution_count": 7,
      "outputs": [
        {
          "output_type": "execute_result",
          "data": {
            "text/plain": [
              "(['Stephen Curry',\n",
              "  'Russell Westbrook',\n",
              "  'Chris Paul',\n",
              "  'John Wall',\n",
              "  'James Harden',\n",
              "  'LeBron James',\n",
              "  'Kevin Durant',\n",
              "  'Paul George',\n",
              "  'Klay Thompson',\n",
              "  'Mike Conley'],\n",
              " ['$43,006,362',\n",
              "  '$41,358,814',\n",
              "  '$41,358,814',\n",
              "  '$41,254,920',\n",
              "  '$40,824,000',\n",
              "  '$39,219,565',\n",
              "  '$39,058,950',\n",
              "  '$35,450,412',\n",
              "  '$35,361,360',\n",
              "  '$34,504,132'])"
            ]
          },
          "metadata": {
            "tags": []
          },
          "execution_count": 7
        }
      ]
    },
    {
      "cell_type": "code",
      "metadata": {
        "id": "th7LXeRhGnHI"
      },
      "source": [
        "# Remove $ signs\n",
        "salary = [s.replace('$', '') for s in salary]"
      ],
      "execution_count": 8,
      "outputs": []
    },
    {
      "cell_type": "code",
      "metadata": {
        "id": "eAOQdlQFHByM"
      },
      "source": [
        "# Remove commas\n",
        "salary = [int(s.replace(',', '')) for s in salary]"
      ],
      "execution_count": 9,
      "outputs": []
    },
    {
      "cell_type": "code",
      "metadata": {
        "id": "vhWPgOi2HdpZ"
      },
      "source": [
        "# Convert to Euro (7/3/2021)\n",
        "salary = np.array(salary)*0.84"
      ],
      "execution_count": 10,
      "outputs": []
    },
    {
      "cell_type": "code",
      "metadata": {
        "id": "q6CuO3InIVqx"
      },
      "source": [
        "# Create DataFrame with 480 players. remove a few players from the end\n",
        "df = pd.DataFrame({\n",
        "    'player': player[:512],\n",
        "    'salary': salary[:512]\n",
        "})"
      ],
      "execution_count": 12,
      "outputs": []
    },
    {
      "cell_type": "code",
      "metadata": {
        "id": "JtWDDfttAMoj",
        "colab": {
          "base_uri": "https://localhost:8080/",
          "height": 363
        },
        "outputId": "255875e5-5aaf-4e4b-cfcd-8005839203dd"
      },
      "source": [
        "df.head(10)"
      ],
      "execution_count": 13,
      "outputs": [
        {
          "output_type": "execute_result",
          "data": {
            "text/html": [
              "<div>\n",
              "<style scoped>\n",
              "    .dataframe tbody tr th:only-of-type {\n",
              "        vertical-align: middle;\n",
              "    }\n",
              "\n",
              "    .dataframe tbody tr th {\n",
              "        vertical-align: top;\n",
              "    }\n",
              "\n",
              "    .dataframe thead th {\n",
              "        text-align: right;\n",
              "    }\n",
              "</style>\n",
              "<table border=\"1\" class=\"dataframe\">\n",
              "  <thead>\n",
              "    <tr style=\"text-align: right;\">\n",
              "      <th></th>\n",
              "      <th>player</th>\n",
              "      <th>salary</th>\n",
              "    </tr>\n",
              "  </thead>\n",
              "  <tbody>\n",
              "    <tr>\n",
              "      <th>0</th>\n",
              "      <td>Stephen Curry</td>\n",
              "      <td>36125344.08</td>\n",
              "    </tr>\n",
              "    <tr>\n",
              "      <th>1</th>\n",
              "      <td>Russell Westbrook</td>\n",
              "      <td>34741403.76</td>\n",
              "    </tr>\n",
              "    <tr>\n",
              "      <th>2</th>\n",
              "      <td>Chris Paul</td>\n",
              "      <td>34741403.76</td>\n",
              "    </tr>\n",
              "    <tr>\n",
              "      <th>3</th>\n",
              "      <td>John Wall</td>\n",
              "      <td>34654132.80</td>\n",
              "    </tr>\n",
              "    <tr>\n",
              "      <th>4</th>\n",
              "      <td>James Harden</td>\n",
              "      <td>34292160.00</td>\n",
              "    </tr>\n",
              "    <tr>\n",
              "      <th>5</th>\n",
              "      <td>LeBron James</td>\n",
              "      <td>32944434.60</td>\n",
              "    </tr>\n",
              "    <tr>\n",
              "      <th>6</th>\n",
              "      <td>Kevin Durant</td>\n",
              "      <td>32809518.00</td>\n",
              "    </tr>\n",
              "    <tr>\n",
              "      <th>7</th>\n",
              "      <td>Paul George</td>\n",
              "      <td>29778346.08</td>\n",
              "    </tr>\n",
              "    <tr>\n",
              "      <th>8</th>\n",
              "      <td>Klay Thompson</td>\n",
              "      <td>29703542.40</td>\n",
              "    </tr>\n",
              "    <tr>\n",
              "      <th>9</th>\n",
              "      <td>Mike Conley</td>\n",
              "      <td>28983470.88</td>\n",
              "    </tr>\n",
              "  </tbody>\n",
              "</table>\n",
              "</div>"
            ],
            "text/plain": [
              "              player       salary\n",
              "0      Stephen Curry  36125344.08\n",
              "1  Russell Westbrook  34741403.76\n",
              "2         Chris Paul  34741403.76\n",
              "3          John Wall  34654132.80\n",
              "4       James Harden  34292160.00\n",
              "5       LeBron James  32944434.60\n",
              "6       Kevin Durant  32809518.00\n",
              "7        Paul George  29778346.08\n",
              "8      Klay Thompson  29703542.40\n",
              "9        Mike Conley  28983470.88"
            ]
          },
          "metadata": {
            "tags": []
          },
          "execution_count": 13
        }
      ]
    },
    {
      "cell_type": "code",
      "metadata": {
        "colab": {
          "base_uri": "https://localhost:8080/",
          "height": 206
        },
        "id": "a-uEwd8SiWw2",
        "outputId": "73e728a8-92ba-43a0-b6ad-d14702ae855d"
      },
      "source": [
        "df.tail()"
      ],
      "execution_count": 14,
      "outputs": [
        {
          "output_type": "execute_result",
          "data": {
            "text/html": [
              "<div>\n",
              "<style scoped>\n",
              "    .dataframe tbody tr th:only-of-type {\n",
              "        vertical-align: middle;\n",
              "    }\n",
              "\n",
              "    .dataframe tbody tr th {\n",
              "        vertical-align: top;\n",
              "    }\n",
              "\n",
              "    .dataframe thead th {\n",
              "        text-align: right;\n",
              "    }\n",
              "</style>\n",
              "<table border=\"1\" class=\"dataframe\">\n",
              "  <thead>\n",
              "    <tr style=\"text-align: right;\">\n",
              "      <th></th>\n",
              "      <th>player</th>\n",
              "      <th>salary</th>\n",
              "    </tr>\n",
              "  </thead>\n",
              "  <tbody>\n",
              "    <tr>\n",
              "      <th>507</th>\n",
              "      <td>Didi Louzada</td>\n",
              "      <td>103102.44</td>\n",
              "    </tr>\n",
              "    <tr>\n",
              "      <th>508</th>\n",
              "      <td>Troy Williams</td>\n",
              "      <td>98198.52</td>\n",
              "    </tr>\n",
              "    <tr>\n",
              "      <th>509</th>\n",
              "      <td>Freddie Gillespie</td>\n",
              "      <td>77999.88</td>\n",
              "    </tr>\n",
              "    <tr>\n",
              "      <th>510</th>\n",
              "      <td>Demetrius Jackson</td>\n",
              "      <td>588000.00</td>\n",
              "    </tr>\n",
              "    <tr>\n",
              "      <th>511</th>\n",
              "      <td>Chimezie Metu</td>\n",
              "      <td>42000.00</td>\n",
              "    </tr>\n",
              "  </tbody>\n",
              "</table>\n",
              "</div>"
            ],
            "text/plain": [
              "                player     salary\n",
              "507       Didi Louzada  103102.44\n",
              "508      Troy Williams   98198.52\n",
              "509  Freddie Gillespie   77999.88\n",
              "510  Demetrius Jackson  588000.00\n",
              "511      Chimezie Metu   42000.00"
            ]
          },
          "metadata": {
            "tags": []
          },
          "execution_count": 14
        }
      ]
    },
    {
      "cell_type": "code",
      "metadata": {
        "id": "X70qdz7-ATTz",
        "colab": {
          "base_uri": "https://localhost:8080/"
        },
        "outputId": "b27a4ece-a8d2-446e-f1f3-0160d4dead5b"
      },
      "source": [
        "df.info(), df.describe(include = 'all')\n",
        "# The average salary is 6.6 millions, the median is 3.2 millions. I will use the median because the distribution is skewed.\n",
        "# The 25% is about 1.6 millions and the 75% is 8.3 millions per year."
      ],
      "execution_count": 16,
      "outputs": [
        {
          "output_type": "stream",
          "text": [
            "<class 'pandas.core.frame.DataFrame'>\n",
            "RangeIndex: 512 entries, 0 to 511\n",
            "Data columns (total 2 columns):\n",
            " #   Column  Non-Null Count  Dtype  \n",
            "---  ------  --------------  -----  \n",
            " 0   player  512 non-null    object \n",
            " 1   salary  512 non-null    float64\n",
            "dtypes: float64(1), object(1)\n",
            "memory usage: 8.1+ KB\n"
          ],
          "name": "stdout"
        },
        {
          "output_type": "execute_result",
          "data": {
            "text/plain": [
              "(None,             player        salary\n",
              " count          512  5.120000e+02\n",
              " unique         490           NaN\n",
              " top     Khem Birch           NaN\n",
              " freq             2           NaN\n",
              " mean           NaN  6.556649e+06\n",
              " std            NaN  7.682464e+06\n",
              " min            NaN  4.200000e+04\n",
              " 25%            NaN  1.577971e+06\n",
              " 50%            NaN  3.198623e+06\n",
              " 75%            NaN  8.335186e+06\n",
              " max            NaN  3.612534e+07)"
            ]
          },
          "metadata": {
            "tags": []
          },
          "execution_count": 16
        }
      ]
    },
    {
      "cell_type": "code",
      "metadata": {
        "colab": {
          "base_uri": "https://localhost:8080/"
        },
        "id": "srUPgkhYLEmp",
        "outputId": "bf461d6b-178b-44b1-c95e-91586eea9ed1"
      },
      "source": [
        "df.player.value_counts()[:10]\n",
        "# Some players appear 2 times in the list. I will remove the second time, so that each player appears only once.\n",
        "# This happens beacause of mid-season trades or trabsfers, e.g. Blake Griffin from the Pistons to the Nets."
      ],
      "execution_count": 17,
      "outputs": [
        {
          "output_type": "execute_result",
          "data": {
            "text/plain": [
              "Khem Birch           2\n",
              "Dewayne Dedmon       2\n",
              "Elfrid Payton        2\n",
              "Patrick Patterson    2\n",
              "Chimezie Metu        2\n",
              "Damian Jones         2\n",
              "Alex Len             2\n",
              "DeMarcus Cousins     2\n",
              "Jeff Teague          2\n",
              "Jabari Parker        2\n",
              "Name: player, dtype: int64"
            ]
          },
          "metadata": {
            "tags": []
          },
          "execution_count": 17
        }
      ]
    },
    {
      "cell_type": "code",
      "metadata": {
        "id": "NGcsSp3mAdo5"
      },
      "source": [
        "# Let's make a list only with the \"double\" players\n",
        "double_players = []\n",
        "for p in range(len(df.player.value_counts() > 1)):\n",
        "  if (df.player.value_counts() > 1)[p] == True:\n",
        "    double_players.append((df.player.value_counts() > 1).index[p])"
      ],
      "execution_count": 18,
      "outputs": []
    },
    {
      "cell_type": "code",
      "metadata": {
        "id": "LGWbZ-14AjdR",
        "colab": {
          "base_uri": "https://localhost:8080/",
          "height": 1000
        },
        "outputId": "37feea2e-9e7b-4021-8df9-3b64234980db"
      },
      "source": [
        "# Let's see who they are\n",
        "df[df['player'].isin(double_players)]"
      ],
      "execution_count": 19,
      "outputs": [
        {
          "output_type": "execute_result",
          "data": {
            "text/html": [
              "<div>\n",
              "<style scoped>\n",
              "    .dataframe tbody tr th:only-of-type {\n",
              "        vertical-align: middle;\n",
              "    }\n",
              "\n",
              "    .dataframe tbody tr th {\n",
              "        vertical-align: top;\n",
              "    }\n",
              "\n",
              "    .dataframe thead th {\n",
              "        text-align: right;\n",
              "    }\n",
              "</style>\n",
              "<table border=\"1\" class=\"dataframe\">\n",
              "  <thead>\n",
              "    <tr style=\"text-align: right;\">\n",
              "      <th></th>\n",
              "      <th>player</th>\n",
              "      <th>salary</th>\n",
              "    </tr>\n",
              "  </thead>\n",
              "  <tbody>\n",
              "    <tr>\n",
              "      <th>17</th>\n",
              "      <td>Blake Griffin</td>\n",
              "      <td>28295602.44</td>\n",
              "    </tr>\n",
              "    <tr>\n",
              "      <th>31</th>\n",
              "      <td>Andre Drummond</td>\n",
              "      <td>24818901.24</td>\n",
              "    </tr>\n",
              "    <tr>\n",
              "      <th>58</th>\n",
              "      <td>LaMarcus Aldridge</td>\n",
              "      <td>16025805.60</td>\n",
              "    </tr>\n",
              "    <tr>\n",
              "      <th>69</th>\n",
              "      <td>Gorgui Dieng</td>\n",
              "      <td>14773657.92</td>\n",
              "    </tr>\n",
              "    <tr>\n",
              "      <th>136</th>\n",
              "      <td>Nicolas Batum</td>\n",
              "      <td>9750914.04</td>\n",
              "    </tr>\n",
              "    <tr>\n",
              "      <th>174</th>\n",
              "      <td>Jabari Parker</td>\n",
              "      <td>5810140.56</td>\n",
              "    </tr>\n",
              "    <tr>\n",
              "      <th>217</th>\n",
              "      <td>Elfrid Payton</td>\n",
              "      <td>4838400.00</td>\n",
              "    </tr>\n",
              "    <tr>\n",
              "      <th>276</th>\n",
              "      <td>Patrick Patterson</td>\n",
              "      <td>3204405.12</td>\n",
              "    </tr>\n",
              "    <tr>\n",
              "      <th>279</th>\n",
              "      <td>Khem Birch</td>\n",
              "      <td>2877388.92</td>\n",
              "    </tr>\n",
              "    <tr>\n",
              "      <th>284</th>\n",
              "      <td>Dewayne Dedmon</td>\n",
              "      <td>2895881.52</td>\n",
              "    </tr>\n",
              "    <tr>\n",
              "      <th>300</th>\n",
              "      <td>Jeff Teague</td>\n",
              "      <td>2833173.84</td>\n",
              "    </tr>\n",
              "    <tr>\n",
              "      <th>303</th>\n",
              "      <td>Nicolas Batum</td>\n",
              "      <td>9750914.04</td>\n",
              "    </tr>\n",
              "    <tr>\n",
              "      <th>304</th>\n",
              "      <td>Wayne Ellington</td>\n",
              "      <td>2524389.00</td>\n",
              "    </tr>\n",
              "    <tr>\n",
              "      <th>318</th>\n",
              "      <td>DeMarcus Cousins</td>\n",
              "      <td>2240245.56</td>\n",
              "    </tr>\n",
              "    <tr>\n",
              "      <th>322</th>\n",
              "      <td>Alex Len</td>\n",
              "      <td>3387424.32</td>\n",
              "    </tr>\n",
              "    <tr>\n",
              "      <th>325</th>\n",
              "      <td>Taj Gibson</td>\n",
              "      <td>2758294.56</td>\n",
              "    </tr>\n",
              "    <tr>\n",
              "      <th>327</th>\n",
              "      <td>Ben McLemore</td>\n",
              "      <td>2396274.72</td>\n",
              "    </tr>\n",
              "    <tr>\n",
              "      <th>335</th>\n",
              "      <td>Moritz Wagner</td>\n",
              "      <td>2002488.60</td>\n",
              "    </tr>\n",
              "    <tr>\n",
              "      <th>381</th>\n",
              "      <td>Alex Len</td>\n",
              "      <td>3387424.32</td>\n",
              "    </tr>\n",
              "    <tr>\n",
              "      <th>445</th>\n",
              "      <td>Blake Griffin</td>\n",
              "      <td>28295602.44</td>\n",
              "    </tr>\n",
              "    <tr>\n",
              "      <th>448</th>\n",
              "      <td>Elfrid Payton</td>\n",
              "      <td>4838400.00</td>\n",
              "    </tr>\n",
              "    <tr>\n",
              "      <th>450</th>\n",
              "      <td>Quinn Cook</td>\n",
              "      <td>1509633.72</td>\n",
              "    </tr>\n",
              "    <tr>\n",
              "      <th>451</th>\n",
              "      <td>Gorgui Dieng</td>\n",
              "      <td>14773657.92</td>\n",
              "    </tr>\n",
              "    <tr>\n",
              "      <th>452</th>\n",
              "      <td>Taj Gibson</td>\n",
              "      <td>2758294.56</td>\n",
              "    </tr>\n",
              "    <tr>\n",
              "      <th>467</th>\n",
              "      <td>LaMarcus Aldridge</td>\n",
              "      <td>16025805.60</td>\n",
              "    </tr>\n",
              "    <tr>\n",
              "      <th>468</th>\n",
              "      <td>Jeff Teague</td>\n",
              "      <td>2833173.84</td>\n",
              "    </tr>\n",
              "    <tr>\n",
              "      <th>469</th>\n",
              "      <td>Quinn Cook</td>\n",
              "      <td>1509633.72</td>\n",
              "    </tr>\n",
              "    <tr>\n",
              "      <th>470</th>\n",
              "      <td>Andre Drummond</td>\n",
              "      <td>24818901.24</td>\n",
              "    </tr>\n",
              "    <tr>\n",
              "      <th>471</th>\n",
              "      <td>Damian Jones</td>\n",
              "      <td>859530.00</td>\n",
              "    </tr>\n",
              "    <tr>\n",
              "      <th>475</th>\n",
              "      <td>Patrick Patterson</td>\n",
              "      <td>3204405.12</td>\n",
              "    </tr>\n",
              "    <tr>\n",
              "      <th>476</th>\n",
              "      <td>Chimezie Metu</td>\n",
              "      <td>588000.00</td>\n",
              "    </tr>\n",
              "    <tr>\n",
              "      <th>479</th>\n",
              "      <td>Dewayne Dedmon</td>\n",
              "      <td>2895881.52</td>\n",
              "    </tr>\n",
              "    <tr>\n",
              "      <th>480</th>\n",
              "      <td>Ben McLemore</td>\n",
              "      <td>2396274.72</td>\n",
              "    </tr>\n",
              "    <tr>\n",
              "      <th>482</th>\n",
              "      <td>Norvel Pelle</td>\n",
              "      <td>602989.80</td>\n",
              "    </tr>\n",
              "    <tr>\n",
              "      <th>486</th>\n",
              "      <td>Wayne Ellington</td>\n",
              "      <td>2524389.00</td>\n",
              "    </tr>\n",
              "    <tr>\n",
              "      <th>487</th>\n",
              "      <td>Khem Birch</td>\n",
              "      <td>2877388.92</td>\n",
              "    </tr>\n",
              "    <tr>\n",
              "      <th>488</th>\n",
              "      <td>Jabari Parker</td>\n",
              "      <td>5810140.56</td>\n",
              "    </tr>\n",
              "    <tr>\n",
              "      <th>494</th>\n",
              "      <td>DeMarcus Cousins</td>\n",
              "      <td>2240245.56</td>\n",
              "    </tr>\n",
              "    <tr>\n",
              "      <th>497</th>\n",
              "      <td>Oshae Brissett</td>\n",
              "      <td>468260.52</td>\n",
              "    </tr>\n",
              "    <tr>\n",
              "      <th>499</th>\n",
              "      <td>Oshae Brissett</td>\n",
              "      <td>468260.52</td>\n",
              "    </tr>\n",
              "    <tr>\n",
              "      <th>502</th>\n",
              "      <td>Damian Jones</td>\n",
              "      <td>2002488.60</td>\n",
              "    </tr>\n",
              "    <tr>\n",
              "      <th>503</th>\n",
              "      <td>Moritz Wagner</td>\n",
              "      <td>602989.80</td>\n",
              "    </tr>\n",
              "    <tr>\n",
              "      <th>504</th>\n",
              "      <td>Norvel Pelle</td>\n",
              "      <td>128384.76</td>\n",
              "    </tr>\n",
              "    <tr>\n",
              "      <th>511</th>\n",
              "      <td>Chimezie Metu</td>\n",
              "      <td>42000.00</td>\n",
              "    </tr>\n",
              "  </tbody>\n",
              "</table>\n",
              "</div>"
            ],
            "text/plain": [
              "                player       salary\n",
              "17       Blake Griffin  28295602.44\n",
              "31      Andre Drummond  24818901.24\n",
              "58   LaMarcus Aldridge  16025805.60\n",
              "69        Gorgui Dieng  14773657.92\n",
              "136      Nicolas Batum   9750914.04\n",
              "174      Jabari Parker   5810140.56\n",
              "217      Elfrid Payton   4838400.00\n",
              "276  Patrick Patterson   3204405.12\n",
              "279         Khem Birch   2877388.92\n",
              "284     Dewayne Dedmon   2895881.52\n",
              "300        Jeff Teague   2833173.84\n",
              "303      Nicolas Batum   9750914.04\n",
              "304    Wayne Ellington   2524389.00\n",
              "318   DeMarcus Cousins   2240245.56\n",
              "322           Alex Len   3387424.32\n",
              "325         Taj Gibson   2758294.56\n",
              "327       Ben McLemore   2396274.72\n",
              "335      Moritz Wagner   2002488.60\n",
              "381           Alex Len   3387424.32\n",
              "445      Blake Griffin  28295602.44\n",
              "448      Elfrid Payton   4838400.00\n",
              "450         Quinn Cook   1509633.72\n",
              "451       Gorgui Dieng  14773657.92\n",
              "452         Taj Gibson   2758294.56\n",
              "467  LaMarcus Aldridge  16025805.60\n",
              "468        Jeff Teague   2833173.84\n",
              "469         Quinn Cook   1509633.72\n",
              "470     Andre Drummond  24818901.24\n",
              "471       Damian Jones    859530.00\n",
              "475  Patrick Patterson   3204405.12\n",
              "476      Chimezie Metu    588000.00\n",
              "479     Dewayne Dedmon   2895881.52\n",
              "480       Ben McLemore   2396274.72\n",
              "482       Norvel Pelle    602989.80\n",
              "486    Wayne Ellington   2524389.00\n",
              "487         Khem Birch   2877388.92\n",
              "488      Jabari Parker   5810140.56\n",
              "494   DeMarcus Cousins   2240245.56\n",
              "497     Oshae Brissett    468260.52\n",
              "499     Oshae Brissett    468260.52\n",
              "502       Damian Jones   2002488.60\n",
              "503      Moritz Wagner    602989.80\n",
              "504       Norvel Pelle    128384.76\n",
              "511      Chimezie Metu     42000.00"
            ]
          },
          "metadata": {
            "tags": []
          },
          "execution_count": 19
        }
      ]
    },
    {
      "cell_type": "code",
      "metadata": {
        "id": "gq4bC10HNRNF"
      },
      "source": [
        "# Drop the duplicates based on the column \"player\"\n",
        "df = df.drop_duplicates(subset=['player'])"
      ],
      "execution_count": 20,
      "outputs": []
    },
    {
      "cell_type": "code",
      "metadata": {
        "id": "VLuwsuHVBynh",
        "colab": {
          "base_uri": "https://localhost:8080/",
          "height": 424
        },
        "outputId": "9faf99ff-d027-48b1-d319-893853d8e8f9"
      },
      "source": [
        "df"
      ],
      "execution_count": 21,
      "outputs": [
        {
          "output_type": "execute_result",
          "data": {
            "text/html": [
              "<div>\n",
              "<style scoped>\n",
              "    .dataframe tbody tr th:only-of-type {\n",
              "        vertical-align: middle;\n",
              "    }\n",
              "\n",
              "    .dataframe tbody tr th {\n",
              "        vertical-align: top;\n",
              "    }\n",
              "\n",
              "    .dataframe thead th {\n",
              "        text-align: right;\n",
              "    }\n",
              "</style>\n",
              "<table border=\"1\" class=\"dataframe\">\n",
              "  <thead>\n",
              "    <tr style=\"text-align: right;\">\n",
              "      <th></th>\n",
              "      <th>player</th>\n",
              "      <th>salary</th>\n",
              "    </tr>\n",
              "  </thead>\n",
              "  <tbody>\n",
              "    <tr>\n",
              "      <th>0</th>\n",
              "      <td>Stephen Curry</td>\n",
              "      <td>36125344.08</td>\n",
              "    </tr>\n",
              "    <tr>\n",
              "      <th>1</th>\n",
              "      <td>Russell Westbrook</td>\n",
              "      <td>34741403.76</td>\n",
              "    </tr>\n",
              "    <tr>\n",
              "      <th>2</th>\n",
              "      <td>Chris Paul</td>\n",
              "      <td>34741403.76</td>\n",
              "    </tr>\n",
              "    <tr>\n",
              "      <th>3</th>\n",
              "      <td>John Wall</td>\n",
              "      <td>34654132.80</td>\n",
              "    </tr>\n",
              "    <tr>\n",
              "      <th>4</th>\n",
              "      <td>James Harden</td>\n",
              "      <td>34292160.00</td>\n",
              "    </tr>\n",
              "    <tr>\n",
              "      <th>...</th>\n",
              "      <td>...</td>\n",
              "      <td>...</td>\n",
              "    </tr>\n",
              "    <tr>\n",
              "      <th>506</th>\n",
              "      <td>Justin Anderson</td>\n",
              "      <td>103367.04</td>\n",
              "    </tr>\n",
              "    <tr>\n",
              "      <th>507</th>\n",
              "      <td>Didi Louzada</td>\n",
              "      <td>103102.44</td>\n",
              "    </tr>\n",
              "    <tr>\n",
              "      <th>508</th>\n",
              "      <td>Troy Williams</td>\n",
              "      <td>98198.52</td>\n",
              "    </tr>\n",
              "    <tr>\n",
              "      <th>509</th>\n",
              "      <td>Freddie Gillespie</td>\n",
              "      <td>77999.88</td>\n",
              "    </tr>\n",
              "    <tr>\n",
              "      <th>510</th>\n",
              "      <td>Demetrius Jackson</td>\n",
              "      <td>588000.00</td>\n",
              "    </tr>\n",
              "  </tbody>\n",
              "</table>\n",
              "<p>490 rows × 2 columns</p>\n",
              "</div>"
            ],
            "text/plain": [
              "                player       salary\n",
              "0        Stephen Curry  36125344.08\n",
              "1    Russell Westbrook  34741403.76\n",
              "2           Chris Paul  34741403.76\n",
              "3            John Wall  34654132.80\n",
              "4         James Harden  34292160.00\n",
              "..                 ...          ...\n",
              "506    Justin Anderson    103367.04\n",
              "507       Didi Louzada    103102.44\n",
              "508      Troy Williams     98198.52\n",
              "509  Freddie Gillespie     77999.88\n",
              "510  Demetrius Jackson    588000.00\n",
              "\n",
              "[490 rows x 2 columns]"
            ]
          },
          "metadata": {
            "tags": []
          },
          "execution_count": 21
        }
      ]
    },
    {
      "cell_type": "code",
      "metadata": {
        "colab": {
          "base_uri": "https://localhost:8080/",
          "height": 363
        },
        "id": "UFTIx3If6SAU",
        "outputId": "9ffc1102-aa77-4f67-b6c7-505d87f065a0"
      },
      "source": [
        "df.hist(bins = 40)\n",
        "# The majority of the players make less than 5 million per year. A few players reach up to 35 mil/year"
      ],
      "execution_count": 22,
      "outputs": [
        {
          "output_type": "execute_result",
          "data": {
            "text/plain": [
              "array([[<matplotlib.axes._subplots.AxesSubplot object at 0x7f271f994910>]],\n",
              "      dtype=object)"
            ]
          },
          "metadata": {
            "tags": []
          },
          "execution_count": 22
        },
        {
          "output_type": "display_data",
          "data": {
            "image/png": "[encoded data removed]",
            "text/plain": [
              "<Figure size 432x288 with 1 Axes>"
            ]
          },
          "metadata": {
            "tags": []
          }
        }
      ]
    },
    {
      "cell_type": "code",
      "metadata": {
        "colab": {
          "base_uri": "https://localhost:8080/",
          "height": 436
        },
        "id": "gydQ918JOMMw",
        "outputId": "152c99ce-a144-4409-aacd-65f81166f238"
      },
      "source": [
        "df.boxplot(figsize = (6, 6))\n",
        "# The median is below 5 mil/year and the \"outliers\" start at around 18mil/year. These are roughly the top 60 players (18 - 36 mil/year)"
      ],
      "execution_count": 23,
      "outputs": [
        {
          "output_type": "execute_result",
          "data": {
            "text/plain": [
              "<matplotlib.axes._subplots.AxesSubplot at 0x7f271f848390>"
            ]
          },
          "metadata": {
            "tags": []
          },
          "execution_count": 23
        },
        {
          "output_type": "display_data",
          "data": {
            "image/png": "[encoded data removed]",
            "text/plain": [
              "<Figure size 432x432 with 1 Axes>"
            ]
          },
          "metadata": {
            "tags": []
          }
        }
      ]
    },
    {
      "cell_type": "code",
      "metadata": {
        "id": "dodVWvAs6l4Y",
        "colab": {
          "base_uri": "https://localhost:8080/"
        },
        "outputId": "ea113bba-7e03-4a29-a07f-b289941b4c0b"
      },
      "source": [
        "len(df[df['salary'] > 24500000])\n",
        "# Top 30 players have an annual salary of more than 24.5 millions"
      ],
      "execution_count": 24,
      "outputs": [
        {
          "output_type": "execute_result",
          "data": {
            "text/plain": [
              "30"
            ]
          },
          "metadata": {
            "tags": []
          },
          "execution_count": 24
        }
      ]
    },
    {
      "cell_type": "code",
      "metadata": {
        "id": "K9FAMSKh-DGv",
        "colab": {
          "base_uri": "https://localhost:8080/"
        },
        "outputId": "ecf012d4-f2ff-4707-8634-d419dcdb4cf3"
      },
      "source": [
        "len(df[df['salary'] < 1000000])\n",
        "# Bottom 45 players have an annual salary of less than 1 million"
      ],
      "execution_count": 25,
      "outputs": [
        {
          "output_type": "execute_result",
          "data": {
            "text/plain": [
              "45"
            ]
          },
          "metadata": {
            "tags": []
          },
          "execution_count": 25
        }
      ]
    },
    {
      "cell_type": "code",
      "metadata": {
        "colab": {
          "base_uri": "https://localhost:8080/"
        },
        "id": "MCu1GmwQOpTB",
        "outputId": "bd22c9d2-5f80-4687-a161-185e39316b14"
      },
      "source": [
        "len(df[df['salary'] > np.percentile(df['salary'], 75)])\n",
        "# 123 players are in the upper quartile"
      ],
      "execution_count": 26,
      "outputs": [
        {
          "output_type": "execute_result",
          "data": {
            "text/plain": [
              "123"
            ]
          },
          "metadata": {
            "tags": []
          },
          "execution_count": 26
        }
      ]
    },
    {
      "cell_type": "code",
      "metadata": {
        "id": "O4sSnZQa-66A",
        "colab": {
          "base_uri": "https://localhost:8080/"
        },
        "outputId": "869a4745-dd8f-4c30-a305-1271eca0bbf3"
      },
      "source": [
        "len(df[df['salary'] < np.percentile(df['salary'], 25)])\n",
        "# 123 players are in the lower quartile"
      ],
      "execution_count": 27,
      "outputs": [
        {
          "output_type": "execute_result",
          "data": {
            "text/plain": [
              "123"
            ]
          },
          "metadata": {
            "tags": []
          },
          "execution_count": 27
        }
      ]
    },
    {
      "cell_type": "code",
      "metadata": {
        "colab": {
          "base_uri": "https://localhost:8080/"
        },
        "id": "FisbAM7c7-uO",
        "outputId": "75109afa-24ee-4519-d14d-ecd0ad6e8ae8"
      },
      "source": [
        "len(df[(df['salary'] >= np.percentile(df['salary'], 25)) & (df['salary'] <= np.percentile(df['salary'], 75))])\n",
        "# 244 players are within the interquartile range"
      ],
      "execution_count": 28,
      "outputs": [
        {
          "output_type": "execute_result",
          "data": {
            "text/plain": [
              "244"
            ]
          },
          "metadata": {
            "tags": []
          },
          "execution_count": 28
        }
      ]
    },
    {
      "cell_type": "code",
      "metadata": {
        "colab": {
          "base_uri": "https://localhost:8080/",
          "height": 332
        },
        "id": "j8fFVgMVVDj8",
        "outputId": "b3fd3d40-04c9-4120-8559-8189d05ddcd9"
      },
      "source": [
        "fig, ax = plt.subplots(figsize = (6, 4))\n",
        "sns.histplot(data = df, x = 'salary', cumulative = True, element = 'step', fill = False, stat = 'density', bins = 400)\n",
        "ax.set_ylim(0, 1)\n",
        "plt.axhline(y = 0.5, linestyle = '--', color = 'grey') \n",
        "plt.axvline(x = 3360000, linestyle = '--', color = 'grey') \n",
        "# Half the NBA players make less that 3.6 mil/year"
      ],
      "execution_count": 29,
      "outputs": [
        {
          "output_type": "execute_result",
          "data": {
            "text/plain": [
              "<matplotlib.lines.Line2D at 0x7f271f394950>"
            ]
          },
          "metadata": {
            "tags": []
          },
          "execution_count": 29
        },
        {
          "output_type": "display_data",
          "data": {
            "image/png": "[encoded data removed]",
            "text/plain": [
              "<Figure size 432x288 with 1 Axes>"
            ]
          },
          "metadata": {
            "tags": []
          }
        }
      ]
    },
    {
      "cell_type": "code",
      "metadata": {
        "colab": {
          "base_uri": "https://localhost:8080/",
          "height": 714
        },
        "id": "suxz0ii4TUw3",
        "outputId": "dcd6f39e-9669-40b7-b413-f8959f8e1889"
      },
      "source": [
        "# Let's make a swarmplot of all the salaries. Each dot is one player. The superstars are at the top part, while the bulk of. the players are close to the bottom. The majority of the players \n",
        "# take low salaries while a few superstars make a lot of money. There is an order of magnitude difference between players at the bottom, in the middle and at the top of the salary list.\n",
        "# I will add a grey line showing the middle of the list (median or 50% of players) and a red one, showing the budget for a 4-year scientific project involving several researchers.\n",
        "fig, ax = plt.subplots(figsize = (10, 10))\n",
        "sns.swarmplot(data = df, y = 'salary', zorder = 1, size = 6, alpha = 0.9)\n",
        "fig.suptitle('NBA players annual salaries', fontsize = 40)\n",
        "ax.set_yticklabels(['0','5','10','15','20','25','30','35'])\n",
        "plt.ylim(0,40000000)\n",
        "plt.ylabel('million euros', fontsize=24)\n",
        "plt.axhline(y = 3370000, color = 'grey', linestyle = '--', label = '50% of players', zorder = 0, alpha = 0.6)\n",
        "plt.axhline(y = 1000000, color = 'red', linestyle = '--', label = '4-year project cost', zorder = 0, alpha = 0.6)\n",
        "plt.legend(loc = 5)"
      ],
      "execution_count": 45,
      "outputs": [
        {
          "output_type": "execute_result",
          "data": {
            "text/plain": [
              "<matplotlib.legend.Legend at 0x7f2710617550>"
            ]
          },
          "metadata": {
            "tags": []
          },
          "execution_count": 45
        },
        {
          "output_type": "display_data",
          "data": {
            "image/png": "[encoded data removed]",
            "text/plain": [
              "<Figure size 720x720 with 1 Axes>"
            ]
          },
          "metadata": {
            "tags": []
          }
        }
      ]
    },
    {
      "cell_type": "markdown",
      "metadata": {
        "id": "bRunrNtFe9TC"
      },
      "source": [
        "# Forbes list"
      ]
    },
    {
      "cell_type": "markdown",
      "metadata": {
        "id": "jQVWg3AzW-2_"
      },
      "source": [
        "I will scrape the Forbes article with the 10 highest=paid NBA players, including endorsements: https://www.forbes.com/sites/kurtbadenhausen/2021/01/29/the-nbas-highest-paid-players-2021-lebron-curry-durant-score-combined-235-million/"
      ]
    },
    {
      "cell_type": "code",
      "metadata": {
        "id": "MeIHPVpPbJsk"
      },
      "source": [
        "url='https://www.forbes.com/sites/kurtbadenhausen/2021/01/29/the-nbas-highest-paid-players-2021-lebron-curry-durant-score-combined-235-million/'\n",
        "html = requests.get(url).content\n",
        "sel = Selector(text = html)\n",
        "player = sel.xpath('//h3//text()').extract()\n",
        "salary = sel.xpath('//h2//text()').extract()"
      ],
      "execution_count": 46,
      "outputs": []
    },
    {
      "cell_type": "code",
      "metadata": {
        "colab": {
          "base_uri": "https://localhost:8080/"
        },
        "id": "iRYSx9XEbjwY",
        "outputId": "b2ba1cac-7b94-4798-a5c4-560e1d6dd67b"
      },
      "source": [
        "# The player list needs cleaning\n",
        "player"
      ],
      "execution_count": 47,
      "outputs": [
        {
          "output_type": "execute_result",
          "data": {
            "text/plain": [
              "['#10\\xa0|\\xa0Damian Lillard',\n",
              " '#9\\xa0|\\xa0Chris Paul',\n",
              " '#8\\xa0|\\xa0Kyrie Irving',\n",
              " '#7\\xa0|\\xa0Klay Thompson',\n",
              " '#6\\xa0|\\xa0Giannis Antetokounmpo',\n",
              " '#5\\xa0|\\xa0James Harden',\n",
              " '#4\\xa0|\\xa0Russell Westbrook',\n",
              " '#3\\xa0|\\xa0Kevin Durant',\n",
              " '#2\\xa0|\\xa0Stephen Curry',\n",
              " '#1\\xa0|\\xa0LeBron James']"
            ]
          },
          "metadata": {
            "tags": []
          },
          "execution_count": 47
        }
      ]
    },
    {
      "cell_type": "code",
      "metadata": {
        "colab": {
          "base_uri": "https://localhost:8080/"
        },
        "id": "UX30-cXYbkgw",
        "outputId": "113f3e58-5216-4d21-80f8-c86bdb394fc7"
      },
      "source": [
        "# The earnings list is messy too\n",
        "salary[:10]"
      ],
      "execution_count": 48,
      "outputs": [
        {
          "output_type": "execute_result",
          "data": {
            "text/plain": [
              "['Empty arenas will dent NBA salaries 20% this season, but the biggest stars have blockbuster sneaker contracts that keep them among the world’s highest-paid athletes.',\n",
              " 'Team:',\n",
              " '\\xa0Portland Trail Blazers',\n",
              " 'Total Earnings:',\n",
              " '\\xa0$39 million',\n",
              " 'Salary:\\xa0',\n",
              " '$25 million',\n",
              " 'Endorsements:\\xa0',\n",
              " '$14 million',\n",
              " 'Team:']"
            ]
          },
          "metadata": {
            "tags": []
          },
          "execution_count": 48
        }
      ]
    },
    {
      "cell_type": "code",
      "metadata": {
        "id": "kuvN1NoLchOF"
      },
      "source": [
        "# Let's remove the weird symbols from the players' names.\n",
        "player = [p.replace('\\xa0|\\xa0', '').replace('#', '') for p in player]"
      ],
      "execution_count": 49,
      "outputs": []
    },
    {
      "cell_type": "code",
      "metadata": {
        "id": "r0_j5t_Mmkx0"
      },
      "source": [
        "# And now get rid of the numbers.\n",
        "player = [p.translate(str.maketrans('', '', digits)) for p in player]"
      ],
      "execution_count": 50,
      "outputs": []
    },
    {
      "cell_type": "code",
      "metadata": {
        "colab": {
          "base_uri": "https://localhost:8080/"
        },
        "id": "tsykNjNlml97",
        "outputId": "552c4fd4-6e8b-4ea3-9288-611efb05505d"
      },
      "source": [
        "# Looks much better now\n",
        "player"
      ],
      "execution_count": 51,
      "outputs": [
        {
          "output_type": "execute_result",
          "data": {
            "text/plain": [
              "['Damian Lillard',\n",
              " 'Chris Paul',\n",
              " 'Kyrie Irving',\n",
              " 'Klay Thompson',\n",
              " 'Giannis Antetokounmpo',\n",
              " 'James Harden',\n",
              " 'Russell Westbrook',\n",
              " 'Kevin Durant',\n",
              " 'Stephen Curry',\n",
              " 'LeBron James']"
            ]
          },
          "metadata": {
            "tags": []
          },
          "execution_count": 51
        }
      ]
    },
    {
      "cell_type": "code",
      "metadata": {
        "id": "q-NncmJNm4fh"
      },
      "source": [
        "# Let's select only the elements that start with '\\xa0$' and remove the. word 'million'. We will take a clean list with the earnings of each player.\n",
        "salary = [s[2:].replace(' million', '') for s in salary if s[:2]=='\\xa0$'] "
      ],
      "execution_count": 52,
      "outputs": []
    },
    {
      "cell_type": "code",
      "metadata": {
        "id": "HfALZ97hno1p"
      },
      "source": [
        "# Let's make a new DataFrame (dforbes) containing only the names and the total earnings (salary + sponsors) of the 10 highest paid players.\n",
        "dforbes = pd.DataFrame({\n",
        "    'player' : player,\n",
        "    'total' : salary\n",
        "})"
      ],
      "execution_count": 53,
      "outputs": []
    },
    {
      "cell_type": "code",
      "metadata": {
        "colab": {
          "base_uri": "https://localhost:8080/"
        },
        "id": "z22zWiUgpW2A",
        "outputId": "87e9ed91-0aea-4c01-8fbc-15300f6342e3"
      },
      "source": [
        "# What is the type of the 2 new columns?\n",
        "dforbes.info()"
      ],
      "execution_count": 54,
      "outputs": [
        {
          "output_type": "stream",
          "text": [
            "<class 'pandas.core.frame.DataFrame'>\n",
            "RangeIndex: 10 entries, 0 to 9\n",
            "Data columns (total 2 columns):\n",
            " #   Column  Non-Null Count  Dtype \n",
            "---  ------  --------------  ----- \n",
            " 0   player  10 non-null     object\n",
            " 1   total   10 non-null     object\n",
            "dtypes: object(2)\n",
            "memory usage: 288.0+ bytes\n"
          ],
          "name": "stdout"
        }
      ]
    },
    {
      "cell_type": "code",
      "metadata": {
        "id": "93bL3CSTo0lp"
      },
      "source": [
        "# Let's convert the earnings to numerical and then to euros, by multiplying with 0.84\n",
        "dforbes['total'] = dforbes['total'].astype('float')\n",
        "dforbes['total'] = dforbes['total']*0.84"
      ],
      "execution_count": 55,
      "outputs": []
    },
    {
      "cell_type": "code",
      "metadata": {
        "colab": {
          "base_uri": "https://localhost:8080/",
          "height": 363
        },
        "id": "ty4O_giMrJzu",
        "outputId": "c096d742-0d58-45a1-e1a3-bf5ffe86febf"
      },
      "source": [
        "dforbes # Not quite there..."
      ],
      "execution_count": 56,
      "outputs": [
        {
          "output_type": "execute_result",
          "data": {
            "text/html": [
              "<div>\n",
              "<style scoped>\n",
              "    .dataframe tbody tr th:only-of-type {\n",
              "        vertical-align: middle;\n",
              "    }\n",
              "\n",
              "    .dataframe tbody tr th {\n",
              "        vertical-align: top;\n",
              "    }\n",
              "\n",
              "    .dataframe thead th {\n",
              "        text-align: right;\n",
              "    }\n",
              "</style>\n",
              "<table border=\"1\" class=\"dataframe\">\n",
              "  <thead>\n",
              "    <tr style=\"text-align: right;\">\n",
              "      <th></th>\n",
              "      <th>player</th>\n",
              "      <th>total</th>\n",
              "    </tr>\n",
              "  </thead>\n",
              "  <tbody>\n",
              "    <tr>\n",
              "      <th>0</th>\n",
              "      <td>Damian Lillard</td>\n",
              "      <td>32.760</td>\n",
              "    </tr>\n",
              "    <tr>\n",
              "      <th>1</th>\n",
              "      <td>Chris Paul</td>\n",
              "      <td>33.684</td>\n",
              "    </tr>\n",
              "    <tr>\n",
              "      <th>2</th>\n",
              "      <td>Kyrie Irving</td>\n",
              "      <td>36.120</td>\n",
              "    </tr>\n",
              "    <tr>\n",
              "      <th>3</th>\n",
              "      <td>Klay Thompson</td>\n",
              "      <td>36.372</td>\n",
              "    </tr>\n",
              "    <tr>\n",
              "      <th>4</th>\n",
              "      <td>Giannis Antetokounmpo</td>\n",
              "      <td>41.160</td>\n",
              "    </tr>\n",
              "    <tr>\n",
              "      <th>5</th>\n",
              "      <td>James Harden</td>\n",
              "      <td>42.000</td>\n",
              "    </tr>\n",
              "    <tr>\n",
              "      <th>6</th>\n",
              "      <td>Russell Westbrook</td>\n",
              "      <td>48.804</td>\n",
              "    </tr>\n",
              "    <tr>\n",
              "      <th>7</th>\n",
              "      <td>Kevin Durant</td>\n",
              "      <td>54.768</td>\n",
              "    </tr>\n",
              "    <tr>\n",
              "      <th>8</th>\n",
              "      <td>Stephen Curry</td>\n",
              "      <td>62.496</td>\n",
              "    </tr>\n",
              "    <tr>\n",
              "      <th>9</th>\n",
              "      <td>LeBron James</td>\n",
              "      <td>80.136</td>\n",
              "    </tr>\n",
              "  </tbody>\n",
              "</table>\n",
              "</div>"
            ],
            "text/plain": [
              "                  player   total\n",
              "0         Damian Lillard  32.760\n",
              "1             Chris Paul  33.684\n",
              "2           Kyrie Irving  36.120\n",
              "3          Klay Thompson  36.372\n",
              "4  Giannis Antetokounmpo  41.160\n",
              "5           James Harden  42.000\n",
              "6      Russell Westbrook  48.804\n",
              "7           Kevin Durant  54.768\n",
              "8          Stephen Curry  62.496\n",
              "9           LeBron James  80.136"
            ]
          },
          "metadata": {
            "tags": []
          },
          "execution_count": 56
        }
      ]
    },
    {
      "cell_type": "code",
      "metadata": {
        "id": "dUf1qqJArcsB"
      },
      "source": [
        "# Let's reverse the DataFrame index\n",
        "dforbes.index = range(len(dforbes)-1, -1, -1)"
      ],
      "execution_count": 57,
      "outputs": []
    },
    {
      "cell_type": "code",
      "metadata": {
        "id": "IIAKX-mrrp1N"
      },
      "source": [
        "# And sort the index...\n",
        "dforbes = dforbes.sort_index()"
      ],
      "execution_count": 58,
      "outputs": []
    },
    {
      "cell_type": "code",
      "metadata": {
        "colab": {
          "base_uri": "https://localhost:8080/",
          "height": 363
        },
        "id": "boRZ0gYiEYX4",
        "outputId": "7603a1a3-18f2-46be-fcb5-e8dbf6ceebfb"
      },
      "source": [
        "# Perfect!\n",
        "dforbes"
      ],
      "execution_count": 59,
      "outputs": [
        {
          "output_type": "execute_result",
          "data": {
            "text/html": [
              "<div>\n",
              "<style scoped>\n",
              "    .dataframe tbody tr th:only-of-type {\n",
              "        vertical-align: middle;\n",
              "    }\n",
              "\n",
              "    .dataframe tbody tr th {\n",
              "        vertical-align: top;\n",
              "    }\n",
              "\n",
              "    .dataframe thead th {\n",
              "        text-align: right;\n",
              "    }\n",
              "</style>\n",
              "<table border=\"1\" class=\"dataframe\">\n",
              "  <thead>\n",
              "    <tr style=\"text-align: right;\">\n",
              "      <th></th>\n",
              "      <th>player</th>\n",
              "      <th>total</th>\n",
              "    </tr>\n",
              "  </thead>\n",
              "  <tbody>\n",
              "    <tr>\n",
              "      <th>0</th>\n",
              "      <td>LeBron James</td>\n",
              "      <td>80.136</td>\n",
              "    </tr>\n",
              "    <tr>\n",
              "      <th>1</th>\n",
              "      <td>Stephen Curry</td>\n",
              "      <td>62.496</td>\n",
              "    </tr>\n",
              "    <tr>\n",
              "      <th>2</th>\n",
              "      <td>Kevin Durant</td>\n",
              "      <td>54.768</td>\n",
              "    </tr>\n",
              "    <tr>\n",
              "      <th>3</th>\n",
              "      <td>Russell Westbrook</td>\n",
              "      <td>48.804</td>\n",
              "    </tr>\n",
              "    <tr>\n",
              "      <th>4</th>\n",
              "      <td>James Harden</td>\n",
              "      <td>42.000</td>\n",
              "    </tr>\n",
              "    <tr>\n",
              "      <th>5</th>\n",
              "      <td>Giannis Antetokounmpo</td>\n",
              "      <td>41.160</td>\n",
              "    </tr>\n",
              "    <tr>\n",
              "      <th>6</th>\n",
              "      <td>Klay Thompson</td>\n",
              "      <td>36.372</td>\n",
              "    </tr>\n",
              "    <tr>\n",
              "      <th>7</th>\n",
              "      <td>Kyrie Irving</td>\n",
              "      <td>36.120</td>\n",
              "    </tr>\n",
              "    <tr>\n",
              "      <th>8</th>\n",
              "      <td>Chris Paul</td>\n",
              "      <td>33.684</td>\n",
              "    </tr>\n",
              "    <tr>\n",
              "      <th>9</th>\n",
              "      <td>Damian Lillard</td>\n",
              "      <td>32.760</td>\n",
              "    </tr>\n",
              "  </tbody>\n",
              "</table>\n",
              "</div>"
            ],
            "text/plain": [
              "                  player   total\n",
              "0           LeBron James  80.136\n",
              "1          Stephen Curry  62.496\n",
              "2           Kevin Durant  54.768\n",
              "3      Russell Westbrook  48.804\n",
              "4           James Harden  42.000\n",
              "5  Giannis Antetokounmpo  41.160\n",
              "6          Klay Thompson  36.372\n",
              "7           Kyrie Irving  36.120\n",
              "8             Chris Paul  33.684\n",
              "9         Damian Lillard  32.760"
            ]
          },
          "metadata": {
            "tags": []
          },
          "execution_count": 59
        }
      ]
    },
    {
      "cell_type": "code",
      "metadata": {
        "colab": {
          "base_uri": "https://localhost:8080/",
          "height": 300
        },
        "id": "QZcUJvMGo4Q7",
        "outputId": "445420a1-2fa8-4a16-f10b-275930fb7d4a"
      },
      "source": [
        "# That's a lot of money!\n",
        "dforbes.describe()"
      ],
      "execution_count": 60,
      "outputs": [
        {
          "output_type": "execute_result",
          "data": {
            "text/html": [
              "<div>\n",
              "<style scoped>\n",
              "    .dataframe tbody tr th:only-of-type {\n",
              "        vertical-align: middle;\n",
              "    }\n",
              "\n",
              "    .dataframe tbody tr th {\n",
              "        vertical-align: top;\n",
              "    }\n",
              "\n",
              "    .dataframe thead th {\n",
              "        text-align: right;\n",
              "    }\n",
              "</style>\n",
              "<table border=\"1\" class=\"dataframe\">\n",
              "  <thead>\n",
              "    <tr style=\"text-align: right;\">\n",
              "      <th></th>\n",
              "      <th>total</th>\n",
              "    </tr>\n",
              "  </thead>\n",
              "  <tbody>\n",
              "    <tr>\n",
              "      <th>count</th>\n",
              "      <td>10.000000</td>\n",
              "    </tr>\n",
              "    <tr>\n",
              "      <th>mean</th>\n",
              "      <td>46.830000</td>\n",
              "    </tr>\n",
              "    <tr>\n",
              "      <th>std</th>\n",
              "      <td>15.172913</td>\n",
              "    </tr>\n",
              "    <tr>\n",
              "      <th>min</th>\n",
              "      <td>32.760000</td>\n",
              "    </tr>\n",
              "    <tr>\n",
              "      <th>25%</th>\n",
              "      <td>36.183000</td>\n",
              "    </tr>\n",
              "    <tr>\n",
              "      <th>50%</th>\n",
              "      <td>41.580000</td>\n",
              "    </tr>\n",
              "    <tr>\n",
              "      <th>75%</th>\n",
              "      <td>53.277000</td>\n",
              "    </tr>\n",
              "    <tr>\n",
              "      <th>max</th>\n",
              "      <td>80.136000</td>\n",
              "    </tr>\n",
              "  </tbody>\n",
              "</table>\n",
              "</div>"
            ],
            "text/plain": [
              "           total\n",
              "count  10.000000\n",
              "mean   46.830000\n",
              "std    15.172913\n",
              "min    32.760000\n",
              "25%    36.183000\n",
              "50%    41.580000\n",
              "75%    53.277000\n",
              "max    80.136000"
            ]
          },
          "metadata": {
            "tags": []
          },
          "execution_count": 60
        }
      ]
    },
    {
      "cell_type": "code",
      "metadata": {
        "colab": {
          "base_uri": "https://localhost:8080/",
          "height": 505
        },
        "id": "oTp5LFKsp93I",
        "outputId": "2cb19ba1-abde-462f-cfff-9b878611d597"
      },
      "source": [
        "# The top 10 players make between 32 and 80 million euro/year\n",
        "dforbes.plot(kind='bar', x='player')"
      ],
      "execution_count": 61,
      "outputs": [
        {
          "output_type": "execute_result",
          "data": {
            "text/plain": [
              "<matplotlib.axes._subplots.AxesSubplot at 0x7f27107077d0>"
            ]
          },
          "metadata": {
            "tags": []
          },
          "execution_count": 61
        },
        {
          "output_type": "display_data",
          "data": {
            "image/png": "[encoded data removed]",
            "text/plain": [
              "<Figure size 432x288 with 1 Axes>"
            ]
          },
          "metadata": {
            "tags": []
          }
        }
      ]
    },
    {
      "cell_type": "code",
      "metadata": {
        "id": "5n4lmwUoDs3p"
      },
      "source": [
        "# Let's add a row with the cost of a 4-year scientific project involving multiple researchers.\n",
        "dforbes = dforbes.append(pd.DataFrame({\n",
        "    'player' : '4-year project',\n",
        "    'total' : [1]\n",
        "}, index = [10]))"
      ],
      "execution_count": 62,
      "outputs": []
    },
    {
      "cell_type": "code",
      "metadata": {
        "colab": {
          "base_uri": "https://localhost:8080/",
          "height": 817
        },
        "id": "Sq8CuwzOJQ1v",
        "outputId": "f2619707-1ca4-4a1d-8f5a-37fde7e7f35b"
      },
      "source": [
        "# And plot a cool Plotly treemap to compare visually the numbers.\n",
        "# The scientific project is the pink stripe at the bottom, which is barely visible.\n",
        "fig = px.treemap(dforbes, path = [dforbes['player']], \n",
        "                 values='total',\n",
        "                 color='player',\n",
        "                 title = \"Top 10 NBA players' total annual income\"\n",
        "                )\n",
        "\n",
        "fig.update_layout(\n",
        "    width = 800,\n",
        "    height = 800,\n",
        "    paper_bgcolor=\"LightSteelBlue\",\n",
        "    font=dict(size=30),\n",
        "    title = dict(font_size = 35, y = 0.97),\n",
        "    margin=dict(l=5, r=5, t=5, b=5)\n",
        ")\n",
        "\n",
        "fig.show()"
      ],
      "execution_count": 63,
      "outputs": [
        {
          "output_type": "display_data",
          "data": {
            "text/html": [
              "<html>\n",
              "<head><meta charset=\"utf-8\" /></head>\n",
              "<body>\n",
              "    <div>            <script src=\"https://cdnjs.cloudflare.com/ajax/libs/mathjax/2.7.5/MathJax.js?config=TeX-AMS-MML_SVG\"></script><script type=\"text/javascript\">if (window.MathJax) {MathJax.Hub.Config({SVG: {font: \"STIX-Web\"}});}</script>                <script type=\"text/javascript\">window.PlotlyConfig = {MathJaxConfig: 'local'};</script>\n",
              "        <script src=\"https://cdn.plot.ly/plotly-latest.min.js\"></script>                <div id=\"09b2e30d-bb2a-4f78-8d3b-40866b78376a\" class=\"plotly-graph-div\" style=\"height:800px; width:800px;\"></div>            <script type=\"text/javascript\">                                    window.PLOTLYENV=window.PLOTLYENV || {};                                    if (document.getElementById(\"09b2e30d-bb2a-4f78-8d3b-40866b78376a\")) {                    Plotly.newPlot(                        \"09b2e30d-bb2a-4f78-8d3b-40866b78376a\",                        [{\"branchvalues\": \"total\", \"customdata\": [[\"Stephen Curry\"], [\"LeBron James\"], [\"Russell Westbrook\"], [\"Kevin Durant\"], [\"James Harden\"], [\"Damian Lillard\"], [\"Klay Thompson\"], [\"Kyrie Irving\"], [\"4-year project\"], [\"Giannis Antetokounmpo\"], [\"Chris Paul\"]], \"domain\": {\"x\": [0.0, 1.0], \"y\": [0.0, 1.0]}, \"hovertemplate\": \"labels=%{label}<br>total=%{value}<br>parent=%{parent}<br>id=%{id}<br>player=%{customdata[0]}<extra></extra>\", \"ids\": [\"Stephen Curry\", \"LeBron James\", \"Russell Westbrook\", \"Kevin Durant\", \"James Harden\", \"Damian Lillard\", \"Klay Thompson\", \"Kyrie Irving\", \"4-year project\", \"Giannis Antetokounmpo\", \"Chris Paul\"], \"labels\": [\"Stephen Curry\", \"LeBron James\", \"Russell Westbrook\", \"Kevin Durant\", \"James Harden\", \"Damian Lillard\", \"Klay Thompson\", \"Kyrie Irving\", \"4-year project\", \"Giannis Antetokounmpo\", \"Chris Paul\"], \"marker\": {\"colors\": [\"#636efa\", \"#EF553B\", \"#00cc96\", \"#ab63fa\", \"#FFA15A\", \"#19d3f3\", \"#FF6692\", \"#B6E880\", \"#FF97FF\", \"#FECB52\", \"#636efa\"]}, \"name\": \"\", \"parents\": [\"\", \"\", \"\", \"\", \"\", \"\", \"\", \"\", \"\", \"\", \"\"], \"type\": \"treemap\", \"values\": [62.496, 80.136, 48.804, 54.768, 42.0, 32.76, 36.37199999999999, 36.12, 1.0, 41.16, 33.684]}],                        {\"font\": {\"size\": 30}, \"height\": 800, \"legend\": {\"tracegroupgap\": 0}, \"margin\": {\"b\": 5, \"l\": 5, \"r\": 5, \"t\": 5}, \"paper_bgcolor\": \"LightSteelBlue\", \"template\": {\"data\": {\"bar\": [{\"error_x\": {\"color\": \"#2a3f5f\"}, \"error_y\": {\"color\": \"#2a3f5f\"}, \"marker\": {\"line\": {\"color\": \"#E5ECF6\", \"width\": 0.5}}, \"type\": \"bar\"}], \"barpolar\": [{\"marker\": {\"line\": {\"color\": \"#E5ECF6\", \"width\": 0.5}}, \"type\": \"barpolar\"}], \"carpet\": [{\"aaxis\": {\"endlinecolor\": \"#2a3f5f\", \"gridcolor\": \"white\", \"linecolor\": \"white\", \"minorgridcolor\": \"white\", \"startlinecolor\": \"#2a3f5f\"}, \"baxis\": {\"endlinecolor\": \"#2a3f5f\", \"gridcolor\": \"white\", \"linecolor\": \"white\", \"minorgridcolor\": \"white\", \"startlinecolor\": \"#2a3f5f\"}, \"type\": \"carpet\"}], \"choropleth\": [{\"colorbar\": {\"outlinewidth\": 0, \"ticks\": \"\"}, \"type\": \"choropleth\"}], \"contour\": [{\"colorbar\": {\"outlinewidth\": 0, \"ticks\": \"\"}, \"colorscale\": [[0.0, \"#0d0887\"], [0.1111111111111111, \"#46039f\"], [0.2222222222222222, \"#7201a8\"], [0.3333333333333333, \"#9c179e\"], [0.4444444444444444, \"#bd3786\"], [0.5555555555555556, \"#d8576b\"], [0.6666666666666666, \"#ed7953\"], [0.7777777777777778, \"#fb9f3a\"], [0.8888888888888888, \"#fdca26\"], [1.0, \"#f0f921\"]], \"type\": \"contour\"}], \"contourcarpet\": [{\"colorbar\": {\"outlinewidth\": 0, \"ticks\": \"\"}, \"type\": \"contourcarpet\"}], \"heatmap\": [{\"colorbar\": {\"outlinewidth\": 0, \"ticks\": \"\"}, \"colorscale\": [[0.0, \"#0d0887\"], [0.1111111111111111, \"#46039f\"], [0.2222222222222222, \"#7201a8\"], [0.3333333333333333, \"#9c179e\"], [0.4444444444444444, \"#bd3786\"], [0.5555555555555556, \"#d8576b\"], [0.6666666666666666, \"#ed7953\"], [0.7777777777777778, \"#fb9f3a\"], [0.8888888888888888, \"#fdca26\"], [1.0, \"#f0f921\"]], \"type\": \"heatmap\"}], \"heatmapgl\": [{\"colorbar\": {\"outlinewidth\": 0, \"ticks\": \"\"}, \"colorscale\": [[0.0, \"#0d0887\"], [0.1111111111111111, \"#46039f\"], [0.2222222222222222, \"#7201a8\"], [0.3333333333333333, \"#9c179e\"], [0.4444444444444444, \"#bd3786\"], [0.5555555555555556, \"#d8576b\"], [0.6666666666666666, \"#ed7953\"], [0.7777777777777778, \"#fb9f3a\"], [0.8888888888888888, \"#fdca26\"], [1.0, \"#f0f921\"]], \"type\": \"heatmapgl\"}], \"histogram\": [{\"marker\": {\"colorbar\": {\"outlinewidth\": 0, \"ticks\": \"\"}}, \"type\": \"histogram\"}], \"histogram2d\": [{\"colorbar\": {\"outlinewidth\": 0, \"ticks\": \"\"}, \"colorscale\": [[0.0, \"#0d0887\"], [0.1111111111111111, \"#46039f\"], [0.2222222222222222, \"#7201a8\"], [0.3333333333333333, \"#9c179e\"], [0.4444444444444444, \"#bd3786\"], [0.5555555555555556, \"#d8576b\"], [0.6666666666666666, \"#ed7953\"], [0.7777777777777778, \"#fb9f3a\"], [0.8888888888888888, \"#fdca26\"], [1.0, \"#f0f921\"]], \"type\": \"histogram2d\"}], \"histogram2dcontour\": [{\"colorbar\": {\"outlinewidth\": 0, \"ticks\": \"\"}, \"colorscale\": [[0.0, \"#0d0887\"], [0.1111111111111111, \"#46039f\"], [0.2222222222222222, \"#7201a8\"], [0.3333333333333333, \"#9c179e\"], [0.4444444444444444, \"#bd3786\"], [0.5555555555555556, \"#d8576b\"], [0.6666666666666666, \"#ed7953\"], [0.7777777777777778, \"#fb9f3a\"], [0.8888888888888888, \"#fdca26\"], [1.0, \"#f0f921\"]], \"type\": \"histogram2dcontour\"}], \"mesh3d\": [{\"colorbar\": {\"outlinewidth\": 0, \"ticks\": \"\"}, \"type\": \"mesh3d\"}], \"parcoords\": [{\"line\": {\"colorbar\": {\"outlinewidth\": 0, \"ticks\": \"\"}}, \"type\": \"parcoords\"}], \"pie\": [{\"automargin\": true, \"type\": \"pie\"}], \"scatter\": [{\"marker\": {\"colorbar\": {\"outlinewidth\": 0, \"ticks\": \"\"}}, \"type\": \"scatter\"}], \"scatter3d\": [{\"line\": {\"colorbar\": {\"outlinewidth\": 0, \"ticks\": \"\"}}, \"marker\": {\"colorbar\": {\"outlinewidth\": 0, \"ticks\": \"\"}}, \"type\": \"scatter3d\"}], \"scattercarpet\": [{\"marker\": {\"colorbar\": {\"outlinewidth\": 0, \"ticks\": \"\"}}, \"type\": \"scattercarpet\"}], \"scattergeo\": [{\"marker\": {\"colorbar\": {\"outlinewidth\": 0, \"ticks\": \"\"}}, \"type\": \"scattergeo\"}], \"scattergl\": [{\"marker\": {\"colorbar\": {\"outlinewidth\": 0, \"ticks\": \"\"}}, \"type\": \"scattergl\"}], \"scattermapbox\": [{\"marker\": {\"colorbar\": {\"outlinewidth\": 0, \"ticks\": \"\"}}, \"type\": \"scattermapbox\"}], \"scatterpolar\": [{\"marker\": {\"colorbar\": {\"outlinewidth\": 0, \"ticks\": \"\"}}, \"type\": \"scatterpolar\"}], \"scatterpolargl\": [{\"marker\": {\"colorbar\": {\"outlinewidth\": 0, \"ticks\": \"\"}}, \"type\": \"scatterpolargl\"}], \"scatterternary\": [{\"marker\": {\"colorbar\": {\"outlinewidth\": 0, \"ticks\": \"\"}}, \"type\": \"scatterternary\"}], \"surface\": [{\"colorbar\": {\"outlinewidth\": 0, \"ticks\": \"\"}, \"colorscale\": [[0.0, \"#0d0887\"], [0.1111111111111111, \"#46039f\"], [0.2222222222222222, \"#7201a8\"], [0.3333333333333333, \"#9c179e\"], [0.4444444444444444, \"#bd3786\"], [0.5555555555555556, \"#d8576b\"], [0.6666666666666666, \"#ed7953\"], [0.7777777777777778, \"#fb9f3a\"], [0.8888888888888888, \"#fdca26\"], [1.0, \"#f0f921\"]], \"type\": \"surface\"}], \"table\": [{\"cells\": {\"fill\": {\"color\": \"#EBF0F8\"}, \"line\": {\"color\": \"white\"}}, \"header\": {\"fill\": {\"color\": \"#C8D4E3\"}, \"line\": {\"color\": \"white\"}}, \"type\": \"table\"}]}, \"layout\": {\"annotationdefaults\": {\"arrowcolor\": \"#2a3f5f\", \"arrowhead\": 0, \"arrowwidth\": 1}, \"autotypenumbers\": \"strict\", \"coloraxis\": {\"colorbar\": {\"outlinewidth\": 0, \"ticks\": \"\"}}, \"colorscale\": {\"diverging\": [[0, \"#8e0152\"], [0.1, \"#c51b7d\"], [0.2, \"#de77ae\"], [0.3, \"#f1b6da\"], [0.4, \"#fde0ef\"], [0.5, \"#f7f7f7\"], [0.6, \"#e6f5d0\"], [0.7, \"#b8e186\"], [0.8, \"#7fbc41\"], [0.9, \"#4d9221\"], [1, \"#276419\"]], \"sequential\": [[0.0, \"#0d0887\"], [0.1111111111111111, \"#46039f\"], [0.2222222222222222, \"#7201a8\"], [0.3333333333333333, \"#9c179e\"], [0.4444444444444444, \"#bd3786\"], [0.5555555555555556, \"#d8576b\"], [0.6666666666666666, \"#ed7953\"], [0.7777777777777778, \"#fb9f3a\"], [0.8888888888888888, \"#fdca26\"], [1.0, \"#f0f921\"]], \"sequentialminus\": [[0.0, \"#0d0887\"], [0.1111111111111111, \"#46039f\"], [0.2222222222222222, \"#7201a8\"], [0.3333333333333333, \"#9c179e\"], [0.4444444444444444, \"#bd3786\"], [0.5555555555555556, \"#d8576b\"], [0.6666666666666666, \"#ed7953\"], [0.7777777777777778, \"#fb9f3a\"], [0.8888888888888888, \"#fdca26\"], [1.0, \"#f0f921\"]]}, \"colorway\": [\"#636efa\", \"#EF553B\", \"#00cc96\", \"#ab63fa\", \"#FFA15A\", \"#19d3f3\", \"#FF6692\", \"#B6E880\", \"#FF97FF\", \"#FECB52\"], \"font\": {\"color\": \"#2a3f5f\"}, \"geo\": {\"bgcolor\": \"white\", \"lakecolor\": \"white\", \"landcolor\": \"#E5ECF6\", \"showlakes\": true, \"showland\": true, \"subunitcolor\": \"white\"}, \"hoverlabel\": {\"align\": \"left\"}, \"hovermode\": \"closest\", \"mapbox\": {\"style\": \"light\"}, \"paper_bgcolor\": \"white\", \"plot_bgcolor\": \"#E5ECF6\", \"polar\": {\"angularaxis\": {\"gridcolor\": \"white\", \"linecolor\": \"white\", \"ticks\": \"\"}, \"bgcolor\": \"#E5ECF6\", \"radialaxis\": {\"gridcolor\": \"white\", \"linecolor\": \"white\", \"ticks\": \"\"}}, \"scene\": {\"xaxis\": {\"backgroundcolor\": \"#E5ECF6\", \"gridcolor\": \"white\", \"gridwidth\": 2, \"linecolor\": \"white\", \"showbackground\": true, \"ticks\": \"\", \"zerolinecolor\": \"white\"}, \"yaxis\": {\"backgroundcolor\": \"#E5ECF6\", \"gridcolor\": \"white\", \"gridwidth\": 2, \"linecolor\": \"white\", \"showbackground\": true, \"ticks\": \"\", \"zerolinecolor\": \"white\"}, \"zaxis\": {\"backgroundcolor\": \"#E5ECF6\", \"gridcolor\": \"white\", \"gridwidth\": 2, \"linecolor\": \"white\", \"showbackground\": true, \"ticks\": \"\", \"zerolinecolor\": \"white\"}}, \"shapedefaults\": {\"line\": {\"color\": \"#2a3f5f\"}}, \"ternary\": {\"aaxis\": {\"gridcolor\": \"white\", \"linecolor\": \"white\", \"ticks\": \"\"}, \"baxis\": {\"gridcolor\": \"white\", \"linecolor\": \"white\", \"ticks\": \"\"}, \"bgcolor\": \"#E5ECF6\", \"caxis\": {\"gridcolor\": \"white\", \"linecolor\": \"white\", \"ticks\": \"\"}}, \"title\": {\"x\": 0.05}, \"xaxis\": {\"automargin\": true, \"gridcolor\": \"white\", \"linecolor\": \"white\", \"ticks\": \"\", \"title\": {\"standoff\": 15}, \"zerolinecolor\": \"white\", \"zerolinewidth\": 2}, \"yaxis\": {\"automargin\": true, \"gridcolor\": \"white\", \"linecolor\": \"white\", \"ticks\": \"\", \"title\": {\"standoff\": 15}, \"zerolinecolor\": \"white\", \"zerolinewidth\": 2}}}, \"title\": {\"font\": {\"size\": 35}, \"text\": \"Top 10 NBA players' total annual income\", \"y\": 0.97}, \"width\": 800},                        {\"responsive\": true}                    ).then(function(){\n",
              "                            \n",
              "var gd = document.getElementById('09b2e30d-bb2a-4f78-8d3b-40866b78376a');\n",
              "var x = new MutationObserver(function (mutations, observer) {{\n",
              "        var display = window.getComputedStyle(gd).display;\n",
              "        if (!display || display === 'none') {{\n",
              "            console.log([gd, 'removed!']);\n",
              "            Plotly.purge(gd);\n",
              "            observer.disconnect();\n",
              "        }}\n",
              "}});\n",
              "\n",
              "// Listen for the removal of the full notebook cells\n",
              "var notebookContainer = gd.closest('#notebook-container');\n",
              "if (notebookContainer) {{\n",
              "    x.observe(notebookContainer, {childList: true});\n",
              "}}\n",
              "\n",
              "// Listen for the clearing of the current output cell\n",
              "var outputEl = gd.closest('.output');\n",
              "if (outputEl) {{\n",
              "    x.observe(outputEl, {childList: true});\n",
              "}}\n",
              "\n",
              "                        })                };                            </script>        </div>\n",
              "</body>\n",
              "</html>"
            ]
          },
          "metadata": {
            "tags": []
          }
        }
      ]
    },
    {
      "cell_type": "markdown",
      "metadata": {
        "id": "A24ILHcOae72"
      },
      "source": [
        "# Big science projects\n",
        "Let's compare now the sum of all the NBA contracts for 1 year with the costs of some famous, big science projects/constructions."
      ]
    },
    {
      "cell_type": "code",
      "metadata": {
        "id": "BrHYzf2Sf3m1"
      },
      "source": [
        "# I'm making a new DataFrame \n",
        "df10 = pd.DataFrame({\n",
        "    'total' : [df['salary'].sum()/1000000, 4700, (494*0.84), (90*0.84), (1321*0.84)], \n",
        "    'name' : ['All players', 'CERN', 'Very large array', '10 seed vaults', 'Juno']})"
      ],
      "execution_count": 64,
      "outputs": []
    },
    {
      "cell_type": "code",
      "metadata": {
        "colab": {
          "base_uri": "https://localhost:8080/",
          "height": 206
        },
        "id": "raXGALBSgAQf",
        "outputId": "889906a9-3a4f-4d13-db92-e66f2a870f31"
      },
      "source": [
        "df10"
      ],
      "execution_count": 65,
      "outputs": [
        {
          "output_type": "execute_result",
          "data": {
            "text/html": [
              "<div>\n",
              "<style scoped>\n",
              "    .dataframe tbody tr th:only-of-type {\n",
              "        vertical-align: middle;\n",
              "    }\n",
              "\n",
              "    .dataframe tbody tr th {\n",
              "        vertical-align: top;\n",
              "    }\n",
              "\n",
              "    .dataframe thead th {\n",
              "        text-align: right;\n",
              "    }\n",
              "</style>\n",
              "<table border=\"1\" class=\"dataframe\">\n",
              "  <thead>\n",
              "    <tr style=\"text-align: right;\">\n",
              "      <th></th>\n",
              "      <th>total</th>\n",
              "      <th>name</th>\n",
              "    </tr>\n",
              "  </thead>\n",
              "  <tbody>\n",
              "    <tr>\n",
              "      <th>0</th>\n",
              "      <td>3222.819835</td>\n",
              "      <td>All players</td>\n",
              "    </tr>\n",
              "    <tr>\n",
              "      <th>1</th>\n",
              "      <td>4700.000000</td>\n",
              "      <td>CERN</td>\n",
              "    </tr>\n",
              "    <tr>\n",
              "      <th>2</th>\n",
              "      <td>414.960000</td>\n",
              "      <td>Very large array</td>\n",
              "    </tr>\n",
              "    <tr>\n",
              "      <th>3</th>\n",
              "      <td>75.600000</td>\n",
              "      <td>10 seed vaults</td>\n",
              "    </tr>\n",
              "    <tr>\n",
              "      <th>4</th>\n",
              "      <td>1109.640000</td>\n",
              "      <td>Juno</td>\n",
              "    </tr>\n",
              "  </tbody>\n",
              "</table>\n",
              "</div>"
            ],
            "text/plain": [
              "         total              name\n",
              "0  3222.819835       All players\n",
              "1  4700.000000              CERN\n",
              "2   414.960000  Very large array\n",
              "3    75.600000    10 seed vaults\n",
              "4  1109.640000              Juno"
            ]
          },
          "metadata": {
            "tags": []
          },
          "execution_count": 65
        }
      ]
    },
    {
      "cell_type": "code",
      "metadata": {
        "id": "SKdlA2G9vwJf"
      },
      "source": [
        "# Sort the DataFrame\n",
        "df10 = df10.sort_values(by=['total'], ascending=False)"
      ],
      "execution_count": 66,
      "outputs": []
    },
    {
      "cell_type": "code",
      "metadata": {
        "colab": {
          "base_uri": "https://localhost:8080/",
          "height": 558
        },
        "id": "x7te9W8Ffb8t",
        "outputId": "a76c5f01-95d7-43ca-e580-40ee12ef7d07"
      },
      "source": [
        "# And make a simple barplot. I think it's enough in this case.\n",
        "plt.figure(figsize=(12,8))\n",
        "sns.barplot(data=df10, y='name', x='total')"
      ],
      "execution_count": 67,
      "outputs": [
        {
          "output_type": "execute_result",
          "data": {
            "text/plain": [
              "<matplotlib.axes._subplots.AxesSubplot at 0x7f270fbd0ed0>"
            ]
          },
          "metadata": {
            "tags": []
          },
          "execution_count": 67
        },
        {
          "output_type": "display_data",
          "data": {
            "image/png": "[encoded data removed]",
            "text/plain": [
              "<Figure size 864x576 with 1 Axes>"
            ]
          },
          "metadata": {
            "tags": []
          }
        }
      ]
    },
    {
      "cell_type": "markdown",
      "metadata": {
        "id": "5z4yaGwtmU7U"
      },
      "source": [
        "http://www.swarthmore.edu/Humanities/pschmid1/array/vla.html\n",
        "\n",
        "https://www.croptrust.org/our-work/svalbard-global-seed-vault/faq-about-the-vault/\n",
        "\n",
        "https://home.cern/resources/faqs/facts-and-figures-about-lhc\n",
        "\n",
        "https://www.in2013dollars.com/us/inflation/1972?amount=78578000\n",
        "\n",
        "https://www.forbes.com/sites/alexknapp/2012/07/05/how-much-does-it-cost-to-find-a-higgs-boson/?sh=464ab0ab3948\n",
        "\n",
        "https://www.jpl.nasa.gov/news/press_kits/juno/facts/\n",
        "\n"
      ]
    }
  ]
}